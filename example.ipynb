{
 "cells": [
  {
   "cell_type": "markdown",
   "id": "9906f7e2",
   "metadata": {},
   "source": [
    "# install speechbrain"
   ]
  },
  {
   "cell_type": "code",
   "execution_count": null,
   "id": "8fd79480",
   "metadata": {},
   "outputs": [],
   "source": [
    "%cd /home/jovyan/wm-insur-call-qa/eric/DPRNN_package/speechbrain\n",
    "!bash quickInstall.sh"
   ]
  },
  {
   "cell_type": "markdown",
   "id": "f5d4760c",
   "metadata": {},
   "source": [
    "# load model"
   ]
  },
  {
   "cell_type": "code",
   "execution_count": 1,
   "id": "7d0f3c30",
   "metadata": {},
   "outputs": [
    {
     "name": "stdout",
     "output_type": "stream",
     "text": [
      "/project/wm-insur-call-qa/eric/DPRNN_package\n"
     ]
    }
   ],
   "source": [
    "%cd /home/jovyan/wm-insur-call-qa/eric/DPRNN_package\n",
    "\n",
    "from separator.functions import load_model\n",
    "import torch"
   ]
  },
  {
   "cell_type": "code",
   "execution_count": 2,
   "id": "80c7fed8",
   "metadata": {},
   "outputs": [],
   "source": [
    "model_path = \"/home/jovyan/wm-insur-call-qa/eric/DPRNN_package/saved_model/4020\"\n",
    "device =torch.device(\"cuda\")"
   ]
  },
  {
   "cell_type": "code",
   "execution_count": 3,
   "id": "bd3f4edd",
   "metadata": {},
   "outputs": [],
   "source": [
    "model = load_model( model_path ,device  )"
   ]
  },
  {
   "cell_type": "markdown",
   "id": "17dcd866",
   "metadata": {},
   "source": [
    "# read wav"
   ]
  },
  {
   "cell_type": "code",
   "execution_count": 4,
   "id": "9292b661",
   "metadata": {},
   "outputs": [],
   "source": [
    "from separator.functions import read_wav"
   ]
  },
  {
   "cell_type": "code",
   "execution_count": 5,
   "id": "27b52978",
   "metadata": {},
   "outputs": [],
   "source": [
    "test_list =  [\"/home/jovyan/wm-insur-call-qa/eric/speaker-separation/integrate/5min.wav\",\n",
    "                \"/home/jovyan/wm-insur-call-qa/eric/speaker-separation/integrate/007_55804327.wav\",\n",
    "               \"/home/jovyan/wm-insur-call-qa/eric/speaker-separation/integrate/830.wav\" ,\n",
    "              \"/home/jovyan/wm-insur-call-qa/eric/speaker-separation/integrate/004_60984738.wav\"]"
   ]
  },
  {
   "cell_type": "code",
   "execution_count": 6,
   "id": "09a23402",
   "metadata": {},
   "outputs": [],
   "source": [
    "# read path and convert to model input format\n",
    "wav_list = read_wav( test_list )  "
   ]
  },
  {
   "cell_type": "markdown",
   "id": "37f39a2f",
   "metadata": {},
   "source": [
    "# separate"
   ]
  },
  {
   "cell_type": "code",
   "execution_count": 7,
   "id": "c449cf40",
   "metadata": {},
   "outputs": [],
   "source": [
    "#             seglen(second)\n",
    "# |==============================|\n",
    "#                    |--overlap--|\n",
    "#                    |==============================|\n",
    "\n",
    "result = model.separate_wav( wav_list[0] ,seg_len=210 , overlap = 30  )    # a list contain two ndarray"
   ]
  },
  {
   "cell_type": "code",
   "execution_count": 11,
   "id": "e0eb8231",
   "metadata": {},
   "outputs": [],
   "source": [
    "from scipy.io.wavfile import write\n",
    "\n",
    "write( \"/home/jovyan/wm-insur-call-qa/eric/DPRNN_package/test1.wav\"   , 8000  , result[0] )\n",
    "write(  \"/home/jovyan/wm-insur-call-qa/eric/DPRNN_package/test2.wav\"  , 8000   , result[1])"
   ]
  }
 ],
 "metadata": {
  "kernelspec": {
   "display_name": "Python 3",
   "language": "python",
   "name": "python3"
  },
  "language_info": {
   "codemirror_mode": {
    "name": "ipython",
    "version": 3
   },
   "file_extension": ".py",
   "mimetype": "text/x-python",
   "name": "python",
   "nbconvert_exporter": "python",
   "pygments_lexer": "ipython3",
   "version": "3.6.13"
  }
 },
 "nbformat": 4,
 "nbformat_minor": 5
}
