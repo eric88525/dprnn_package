{
  "nbformat": 4,
  "nbformat_minor": 0,
  "metadata": {
    "accelerator": "GPU",
    "colab": {
      "name": "testDprnn.ipynb",
      "provenance": [],
      "collapsed_sections": [],
      "authorship_tag": "ABX9TyOebWYVLAilbz4gf36K6w8J",
      "include_colab_link": true
    },
    "kernelspec": {
      "display_name": "Python 3",
      "name": "python3"
    },
    "language_info": {
      "name": "python"
    }
  },
  "cells": [
    {
      "cell_type": "markdown",
      "metadata": {
        "id": "view-in-github",
        "colab_type": "text"
      },
      "source": [
        "<a href=\"https://colab.research.google.com/github/eric88525/dprnn_package/blob/main/dprnnDemo.ipynb\" target=\"_parent\"><img src=\"https://colab.research.google.com/assets/colab-badge.svg\" alt=\"Open In Colab\"/></a>"
      ]
    },
    {
      "cell_type": "code",
      "metadata": {
        "id": "PDIE3u2VImf_"
      },
      "source": [
        "from google.colab import drive\n",
        "drive.mount(\"/content/drive\", force_remount=True)\n",
        "!mkdir -p drive\n",
        "!google-drive-ocamlfuse drive"
      ],
      "execution_count": null,
      "outputs": []
    },
    {
      "cell_type": "markdown",
      "metadata": {
        "id": "q8a4GukR9GIt"
      },
      "source": [
        "# install dprnn package"
      ]
    },
    {
      "cell_type": "code",
      "metadata": {
        "id": "bCAZb6cT9b3-"
      },
      "source": [
        "# download package\n",
        "!git clone https://github.com/eric88525/dprnn_package.git"
      ],
      "execution_count": null,
      "outputs": []
    },
    {
      "cell_type": "code",
      "metadata": {
        "id": "SN74FU359We6"
      },
      "source": [
        "# install package\n",
        "# must restart kernel\n",
        "%cd /content/dprnn_package/speechbrain\n",
        "!bash quickInstall.sh"
      ],
      "execution_count": null,
      "outputs": []
    },
    {
      "cell_type": "markdown",
      "metadata": {
        "id": "pu51Xkgbm37u"
      },
      "source": [
        "# sep file"
      ]
    },
    {
      "cell_type": "code",
      "metadata": {
        "id": "q1_jdLFn9JkB"
      },
      "source": [
        "# goto separator file\n",
        "\n",
        "%cd /content/dprnn_package"
      ],
      "execution_count": null,
      "outputs": []
    },
    {
      "cell_type": "code",
      "metadata": {
        "id": "9Bf2LijZBoxt"
      },
      "source": [
        "from separator.functions import load_model , read_wav"
      ],
      "execution_count": null,
      "outputs": []
    },
    {
      "cell_type": "code",
      "metadata": {
        "id": "0I48lamIB3ae"
      },
      "source": [
        "import torch\n",
        "\n",
        "# model folder\n",
        "# theres 4 file in this folder:   \n",
        "  # encoder.ckpt  \n",
        "  # decoder.ckpt  \n",
        "  # masknet.ckpt  \n",
        "  # dprnn.yaml\n",
        "\n",
        "model_path = \"/content/drive/MyDrive/Speaker-Separation/Dprnn/saved_models/4020\"\n",
        "model = load_model( model_path , torch.device(\"cuda:0\") )"
      ],
      "execution_count": null,
      "outputs": []
    },
    {
      "cell_type": "code",
      "metadata": {
        "id": "RmSpLavDyB5s"
      },
      "source": [
        "# return list of wav\n",
        "# a wav shape:  [1 , rate * timesec ]\n",
        "\n",
        "wav = read_wav( [   \"/content/po.wav\" , \"/content/po2.wav\"  ]) "
      ],
      "execution_count": null,
      "outputs": []
    },
    {
      "cell_type": "code",
      "metadata": {
        "id": "qZkJrik9DPiu"
      },
      "source": [
        "import scipy.io.wavfile"
      ],
      "execution_count": null,
      "outputs": []
    },
    {
      "cell_type": "code",
      "metadata": {
        "id": "hB-R1fBMx6Ia"
      },
      "source": [
        "# return [ sep_result_1 ,sep_result_2 ]\n",
        "ww = model.separate_wav( wav[1] )  "
      ],
      "execution_count": null,
      "outputs": []
    },
    {
      "cell_type": "markdown",
      "metadata": {
        "id": "KHcAR3sWmtoj"
      },
      "source": [
        "# if you wanna listen"
      ]
    },
    {
      "cell_type": "code",
      "metadata": {
        "id": "2nkz7tFVyU3u"
      },
      "source": [
        "import scipy\n",
        "import os\n",
        "\n",
        "# writedown wav file\n",
        "scipy.io.wavfile.write(f\"/content/DPRNN1.wav\" , 8000, ww[0])\n",
        "scipy.io.wavfile.write(f\"/content/DPRNN2.wav\", 8000, ww[1])"
      ],
      "execution_count": null,
      "outputs": []
    },
    {
      "cell_type": "code",
      "metadata": {
        "id": "0bZxghyK2Zb-"
      },
      "source": [
        "from IPython.display import Audio"
      ],
      "execution_count": null,
      "outputs": []
    },
    {
      "cell_type": "code",
      "metadata": {
        "colab": {
          "background_save": true
        },
        "id": "sQKRlJFMzmtt"
      },
      "source": [
        "Audio(\"/content/DPRNN1.wav\")"
      ],
      "execution_count": null,
      "outputs": []
    },
    {
      "cell_type": "code",
      "metadata": {
        "id": "FxXRrfZJzoH1"
      },
      "source": [
        "Audio( \"/content/DPRNN2.wav\", autoplay=True)"
      ],
      "execution_count": null,
      "outputs": []
    }
  ]
}